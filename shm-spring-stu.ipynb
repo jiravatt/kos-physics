{
 "metadata": {
  "language_info": {
   "codemirror_mode": {
    "name": "ipython",
    "version": 3
   },
   "file_extension": ".py",
   "mimetype": "text/x-python",
   "name": "python",
   "nbconvert_exporter": "python",
   "pygments_lexer": "ipython3",
   "version": "3.9.1-final"
  },
  "orig_nbformat": 2,
  "kernelspec": {
   "name": "python3",
   "display_name": "Python 3.9.1 64-bit",
   "metadata": {
    "interpreter": {
     "hash": "7812ea015bdcee6f23a998adcdd2ef97c151c0c241b7b7070987d9313e41299d"
    }
   }
  }
 },
 "nbformat": 4,
 "nbformat_minor": 2,
 "cells": [
  {
   "cell_type": "code",
   "execution_count": null,
   "metadata": {},
   "outputs": [],
   "source": [
    "def f(v) -> float:\n",
    "    return v              # x'(t) = v(t)\n",
    "\n",
    "def g(x, v) -> float:\n",
    "    global k, m, b\n",
    "    return ((-1)*(k/m)*x)-(b/m)*v      # v'(t) = -(k/m)*x(t)-(b/m)*v(t)\n",
    "\n",
    "def run():\n",
    "    global h, k, m, b, x0, v0, t0, tf\n",
    "    from math import pi, sqrt\n",
    "    import matplotlib.pyplot as plt\n",
    "\n",
    "    # Initial value\n",
    "    x = [x0]                # position\n",
    "    v = [v0]                # velocity\n",
    "    t = [t0]                # time\n",
    "    a = [g(x[-1],v[-1])]    # object's acceleration\n",
    "    Ep = [0.5*k*x[-1]**2]   # Elastic P.E.\n",
    "    Ek = [0.5*m*v[-1]**2]   # K.E.\n",
    "    E = [Ep[-1] + Ek[-1]]   # Total energy\n",
    "\n",
    "    while t[-1] < tf:\n",
    "        # time step increment\n",
    "        t0 = t[-1]\n",
    "        t.append(t0+h)\n",
    "\n",
    "        # Runge-Kutta 4th order\n",
    "        x0 = x[-1]\n",
    "        v0 = v[-1]\n",
    "        K1x = h*f(v0)\n",
    "        K1v = h*g(x0,v0)\n",
    "        K2x = h*f(v0+0.5*K1v)\n",
    "        K2v = h*g(x0+0.5*K1x,v0+0.5*K1v)\n",
    "        K3x = h*f(v0+0.5*K2v)\n",
    "        K3v = h*g(x0+0.5*K2x,v0+0.5*K2v)\n",
    "        K4x = h*f(v0+K3v)\n",
    "        K4v = h*g(x0+K3x,v0+K3v)\n",
    "        x.append(x0+(K1x + 2*K2x + 2*K3x + K4x)/6) \n",
    "        v.append(v0+(K1v + 2*K2v + 2*K3v + K4v)/6)\n",
    "        a.append(g(x[-1],v[-1]))\n",
    "        \n",
    "        # Energy considerations\n",
    "        Epn, Ekn = [0.5*k*x[-1]**2, 0.5*m*v[-1]**2]\n",
    "        Ep.append(Epn)\n",
    "        Ek.append(Ekn)\n",
    "        E.append(Epn + Ekn)\n",
    "\n",
    "    # graph plotting\n",
    "    plt.plot(t, x, 'r,')\n",
    "    # plt.plot(t, v, 'b,')\n",
    "    # plt.plot(t, a, 'm,')\n",
    "    plt.show()\n",
    "\n",
    "### Main Program Starts Here ###\n",
    "\n",
    "# Parameters\n",
    "h = 0.01                # time interval step\n",
    "k = 100                 # spring's stiffness\n",
    "m = 4                   # object's mass\n",
    "b = 0                   # damping constant\n",
    "x0 = 5                  # initial position\n",
    "v0 = 0                  # initial velocity\n",
    "t0 = 0                  # initial time\n",
    "tf = 5                  # final time\n",
    "\n",
    "run()"
   ]
  }
 ]
}