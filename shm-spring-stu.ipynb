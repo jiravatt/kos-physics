{
 "metadata": {
  "language_info": {
   "codemirror_mode": {
    "name": "ipython",
    "version": 3
   },
   "file_extension": ".py",
   "mimetype": "text/x-python",
   "name": "python",
   "nbconvert_exporter": "python",
   "pygments_lexer": "ipython3",
   "version": "3.9.1-final"
  },
  "orig_nbformat": 2,
  "kernelspec": {
   "name": "python3",
   "display_name": "Python 3.9.1 64-bit",
   "metadata": {
    "interpreter": {
     "hash": "7812ea015bdcee6f23a998adcdd2ef97c151c0c241b7b7070987d9313e41299d"
    }
   }
  }
 },
 "nbformat": 4,
 "nbformat_minor": 2,
 "cells": [
  {
   "cell_type": "code",
   "execution_count": null,
   "metadata": {},
   "outputs": [],
   "source": [
    "def diff_v() -> float:\n",
    "    global x, k, m\n",
    "    return (-1)*(k/m)*x[-1]     # v'(t) = -(k/m)*x(t)\n",
    "\n",
    "def diff_x() -> float:\n",
    "    global v\n",
    "    return v[-1]                # x'(t) = v(t)\n",
    "\n",
    "from math import pi, sqrt\n",
    "import matplotlib.pyplot as plt\n",
    "x = [0.2]               # initial position\n",
    "v = [0]                 # initial velocity\n",
    "t = [0]                 # initial time\n",
    "h = 0.01                # time interval step\n",
    "k = 50                  # spring's stiffness\n",
    "m = 10                  # object's mass\n",
    "a = [diff_v()]          # object's acceleration\n",
    "Ep = [0.5*k*x[-1]**2]   # Elastic P.E.\n",
    "Ek = [0.5*m*v[-1]**2]   # K.E.\n",
    "E = [Ep[-1] + Ek[-1]]   # Total energy\n",
    "max_t = 20              # final time\n",
    "while t[-1] < max_t:\n",
    "    # time step increment\n",
    "    t0 = t[-1]\n",
    "    t.append(t0+h)\n",
    "\n",
    "    # Runge-Kutta 4th order\n",
    "    x0, v0 = [x[-1], v[-1]]\n",
    "    vh = v0 + (h/2)*diff_v()    # v(t0+h/2)\n",
    "    vf = v0 + h*diff_v()        # v(t0+h)\n",
    "    xh = x0 + (h/2)*diff_x()    # x(t0+h/2)\n",
    "    xf = x0 + h*diff_x()        # x(t0+h)\n",
    "    v.append(v0+(h/6)*(-k/m*x0 - 4*k/m*xh - k/m*xf))\n",
    "    x.append(x0+(h/6)*(v0 + 4*vh + vf))\n",
    "    a.append(diff_v())\n",
    "    \n",
    "    # # Energy considerations\n",
    "    # Epn, Ekn = [0.5*k*x[-1]**2, 0.5*m*v[-1]**2]\n",
    "    # Ep.append(Epn)\n",
    "    # Ek.append(Ekn)\n",
    "    # E.append(Epn + Ekn)\n",
    "\n",
    "# graph plotting\n",
    "plt.plot(t, x, 'r,')\n",
    "plt.plot(t, v, 'b,')\n",
    "plt.plot(t, a, 'm,')\n",
    "plt.show()"
   ]
  }
 ]
}